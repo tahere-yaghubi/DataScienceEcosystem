{
 "cells": [
  {
   "cell_type": "markdown",
   "id": "305f708d",
   "metadata": {},
   "source": [
    " # Data Science Tools and Ecosystem"
   ]
  },
  {
   "cell_type": "markdown",
   "id": "249b148c",
   "metadata": {},
   "source": [
    "In this notebook, Data Science Tools and Ecosystem are summarized."
   ]
  },
  {
   "cell_type": "markdown",
   "id": "b0928862",
   "metadata": {},
   "source": [
    "Some of the popular languages that Data Scientists use are:\n",
    "<ol>\n",
    "    <li> Python </li>\n",
    "    <li> R </li>\n",
    "    <li> SQl </li>\n",
    "</ol>"
   ]
  },
  {
   "cell_type": "markdown",
   "id": "a63a2c9b",
   "metadata": {},
   "source": [
    "Some of the popular libraries  that Data Scientists use are:\n",
    "<ol>\n",
    "    <li> Numpy </li>\n",
    "    <li> Pandas </li>\n",
    "    <li> SciPy </li>\n",
    "</ol>"
   ]
  },
  {
   "cell_type": "markdown",
   "id": "d9dbe7b0",
   "metadata": {},
   "source": [
    "### Results\n",
    "|Data Science Tools |        \n",
    "|-----|          \n",
    "|RStudio |\n",
    "|Apache Spark|\n",
    "|TensorFlow|"
   ]
  },
  {
   "cell_type": "markdown",
   "id": "2a07f1b1",
   "metadata": {},
   "source": [
    "### Below are a few examples of evaluating arithmetic expressions in Python"
   ]
  },
  {
   "cell_type": "code",
   "execution_count": 15,
   "id": "842fe7e2",
   "metadata": {},
   "outputs": [
    {
     "name": "stdout",
     "output_type": "stream",
     "text": [
      "17\n"
     ]
    }
   ],
   "source": [
    "multiply = (3*4)+5\n",
    "# This a simple arithmetic expression to mutiply then add integers\n",
    "print(multiply)"
   ]
  },
  {
   "cell_type": "code",
   "execution_count": 21,
   "id": "eb578254",
   "metadata": {
    "scrolled": true
   },
   "outputs": [
    {
     "name": "stdout",
     "output_type": "stream",
     "text": [
      "3\n"
     ]
    }
   ],
   "source": [
    "mins = 200\n",
    "hour = 0\n",
    "\n",
    "def convertmins(min):\n",
    "      print(round(min / 60))\n",
    "        \n",
    "convertmins(200)        "
   ]
  },
  {
   "cell_type": "markdown",
   "id": "7667e469",
   "metadata": {},
   "source": [
    "List popular languages for Data Science\n",
    "<b>Objectives:</b>\n",
    "\n",
    "<ul>\n",
    "    <li>python</li>\n",
    "     <li>R</li>\n",
    "     <li>Matlab</li>\n",
    "     <li>Julia</li>\n",
    "     <li>SQl</li>\n",
    "</ul>"
   ]
  },
  {
   "cell_type": "markdown",
   "id": "dec0cf4f",
   "metadata": {},
   "source": [
    "## Author  : \n",
    "Tahereh Yaghubi"
   ]
  },
  {
   "cell_type": "code",
   "execution_count": null,
   "id": "33b2447b",
   "metadata": {},
   "outputs": [],
   "source": []
  }
 ],
 "metadata": {
  "kernelspec": {
   "display_name": "Python 3 (ipykernel)",
   "language": "python",
   "name": "python3"
  },
  "language_info": {
   "codemirror_mode": {
    "name": "ipython",
    "version": 3
   },
   "file_extension": ".py",
   "mimetype": "text/x-python",
   "name": "python",
   "nbconvert_exporter": "python",
   "pygments_lexer": "ipython3",
   "version": "3.11.5"
  }
 },
 "nbformat": 4,
 "nbformat_minor": 5
}
